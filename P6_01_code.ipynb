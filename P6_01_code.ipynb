{
 "cells": [
  {
   "cell_type": "markdown",
   "id": "9d757007",
   "metadata": {},
   "source": [
    "## P6 Détection de faux billets de banques\n",
    "\n",
    "### 1. Analyse exploratoire\n",
    "#### 1.1 méthode K-means\n",
    "#### 1.2 réduction de la dimension avec l'ACP et analyse des variables\n",
    "### 2. Regression logistique\n",
    "### 3. Outil de prédiction"
   ]
  },
  {
   "cell_type": "code",
   "execution_count": 1,
   "id": "bff00e64",
   "metadata": {},
   "outputs": [],
   "source": [
    "#importation des librairies\n",
    "import pandas as pd\n",
    "import numpy as np\n",
    "import matplotlib.pyplot as plt\n",
    "\n",
    "#from matplotlib import cm\n",
    "import seaborn as sns\n",
    "#from scipy.cluster.hierarchy import dendrogram, linkage, fcluster\n",
    "from sklearn.cluster import KMeans\n",
    "from sklearn.preprocessing import scale, StandardScaler\n",
    "from sklearn.linear_model import LogisticRegression\n",
    "from sklearn.model_selection import train_test_split\n",
    "from sklearn.datasets import load_digits\n",
    "#from sklearn import metrics\n",
    "from sklearn.decomposition import PCA\n",
    "\n",
    "import statsmodels.api as sm\n",
    "from scipy.stats import shapiro, ttest_ind"
   ]
  },
  {
   "cell_type": "markdown",
   "id": "2ab28cf0",
   "metadata": {},
   "source": [
    "### 0. Cleaning"
   ]
  },
  {
   "cell_type": "code",
   "execution_count": 2,
   "id": "d6896bf1",
   "metadata": {},
   "outputs": [
    {
     "data": {
      "text/html": [
       "<div>\n",
       "<style scoped>\n",
       "    .dataframe tbody tr th:only-of-type {\n",
       "        vertical-align: middle;\n",
       "    }\n",
       "\n",
       "    .dataframe tbody tr th {\n",
       "        vertical-align: top;\n",
       "    }\n",
       "\n",
       "    .dataframe thead th {\n",
       "        text-align: right;\n",
       "    }\n",
       "</style>\n",
       "<table border=\"1\" class=\"dataframe\">\n",
       "  <thead>\n",
       "    <tr style=\"text-align: right;\">\n",
       "      <th></th>\n",
       "      <th>is_genuine</th>\n",
       "      <th>diagonal</th>\n",
       "      <th>height_left</th>\n",
       "      <th>height_right</th>\n",
       "      <th>margin_low</th>\n",
       "      <th>margin_up</th>\n",
       "      <th>length</th>\n",
       "    </tr>\n",
       "  </thead>\n",
       "  <tbody>\n",
       "    <tr>\n",
       "      <th>0</th>\n",
       "      <td>True</td>\n",
       "      <td>171.81</td>\n",
       "      <td>104.86</td>\n",
       "      <td>104.95</td>\n",
       "      <td>4.52</td>\n",
       "      <td>2.89</td>\n",
       "      <td>112.83</td>\n",
       "    </tr>\n",
       "    <tr>\n",
       "      <th>1</th>\n",
       "      <td>True</td>\n",
       "      <td>171.67</td>\n",
       "      <td>103.74</td>\n",
       "      <td>103.70</td>\n",
       "      <td>4.01</td>\n",
       "      <td>2.87</td>\n",
       "      <td>113.29</td>\n",
       "    </tr>\n",
       "    <tr>\n",
       "      <th>2</th>\n",
       "      <td>True</td>\n",
       "      <td>171.83</td>\n",
       "      <td>103.76</td>\n",
       "      <td>103.76</td>\n",
       "      <td>4.40</td>\n",
       "      <td>2.88</td>\n",
       "      <td>113.84</td>\n",
       "    </tr>\n",
       "    <tr>\n",
       "      <th>3</th>\n",
       "      <td>True</td>\n",
       "      <td>171.80</td>\n",
       "      <td>103.78</td>\n",
       "      <td>103.65</td>\n",
       "      <td>3.73</td>\n",
       "      <td>3.12</td>\n",
       "      <td>113.63</td>\n",
       "    </tr>\n",
       "    <tr>\n",
       "      <th>4</th>\n",
       "      <td>True</td>\n",
       "      <td>172.05</td>\n",
       "      <td>103.70</td>\n",
       "      <td>103.75</td>\n",
       "      <td>5.04</td>\n",
       "      <td>2.27</td>\n",
       "      <td>113.55</td>\n",
       "    </tr>\n",
       "  </tbody>\n",
       "</table>\n",
       "</div>"
      ],
      "text/plain": [
       "   is_genuine  diagonal  height_left  height_right  margin_low  margin_up  \\\n",
       "0        True    171.81       104.86        104.95        4.52       2.89   \n",
       "1        True    171.67       103.74        103.70        4.01       2.87   \n",
       "2        True    171.83       103.76        103.76        4.40       2.88   \n",
       "3        True    171.80       103.78        103.65        3.73       3.12   \n",
       "4        True    172.05       103.70        103.75        5.04       2.27   \n",
       "\n",
       "   length  \n",
       "0  112.83  \n",
       "1  113.29  \n",
       "2  113.84  \n",
       "3  113.63  \n",
       "4  113.55  "
      ]
     },
     "execution_count": 2,
     "metadata": {},
     "output_type": "execute_result"
    }
   ],
   "source": [
    "#importation des données dans des dataframes\n",
    "df = pd.read_csv(\"notes.csv\")\n",
    "df.head()"
   ]
  },
  {
   "cell_type": "code",
   "execution_count": 3,
   "id": "04d538a7",
   "metadata": {},
   "outputs": [
    {
     "data": {
      "text/html": [
       "<div>\n",
       "<style scoped>\n",
       "    .dataframe tbody tr th:only-of-type {\n",
       "        vertical-align: middle;\n",
       "    }\n",
       "\n",
       "    .dataframe tbody tr th {\n",
       "        vertical-align: top;\n",
       "    }\n",
       "\n",
       "    .dataframe thead th {\n",
       "        text-align: right;\n",
       "    }\n",
       "</style>\n",
       "<table border=\"1\" class=\"dataframe\">\n",
       "  <thead>\n",
       "    <tr style=\"text-align: right;\">\n",
       "      <th></th>\n",
       "      <th>is_genuine</th>\n",
       "      <th>diagonal</th>\n",
       "      <th>height_left</th>\n",
       "      <th>height_right</th>\n",
       "      <th>margin_low</th>\n",
       "      <th>margin_up</th>\n",
       "      <th>length</th>\n",
       "    </tr>\n",
       "  </thead>\n",
       "  <tbody>\n",
       "    <tr>\n",
       "      <th>0</th>\n",
       "      <td>1</td>\n",
       "      <td>171.81</td>\n",
       "      <td>104.86</td>\n",
       "      <td>104.95</td>\n",
       "      <td>4.52</td>\n",
       "      <td>2.89</td>\n",
       "      <td>112.83</td>\n",
       "    </tr>\n",
       "    <tr>\n",
       "      <th>1</th>\n",
       "      <td>1</td>\n",
       "      <td>171.67</td>\n",
       "      <td>103.74</td>\n",
       "      <td>103.70</td>\n",
       "      <td>4.01</td>\n",
       "      <td>2.87</td>\n",
       "      <td>113.29</td>\n",
       "    </tr>\n",
       "    <tr>\n",
       "      <th>2</th>\n",
       "      <td>1</td>\n",
       "      <td>171.83</td>\n",
       "      <td>103.76</td>\n",
       "      <td>103.76</td>\n",
       "      <td>4.40</td>\n",
       "      <td>2.88</td>\n",
       "      <td>113.84</td>\n",
       "    </tr>\n",
       "    <tr>\n",
       "      <th>3</th>\n",
       "      <td>1</td>\n",
       "      <td>171.80</td>\n",
       "      <td>103.78</td>\n",
       "      <td>103.65</td>\n",
       "      <td>3.73</td>\n",
       "      <td>3.12</td>\n",
       "      <td>113.63</td>\n",
       "    </tr>\n",
       "    <tr>\n",
       "      <th>4</th>\n",
       "      <td>1</td>\n",
       "      <td>172.05</td>\n",
       "      <td>103.70</td>\n",
       "      <td>103.75</td>\n",
       "      <td>5.04</td>\n",
       "      <td>2.27</td>\n",
       "      <td>113.55</td>\n",
       "    </tr>\n",
       "  </tbody>\n",
       "</table>\n",
       "</div>"
      ],
      "text/plain": [
       "   is_genuine  diagonal  height_left  height_right  margin_low  margin_up  \\\n",
       "0           1    171.81       104.86        104.95        4.52       2.89   \n",
       "1           1    171.67       103.74        103.70        4.01       2.87   \n",
       "2           1    171.83       103.76        103.76        4.40       2.88   \n",
       "3           1    171.80       103.78        103.65        3.73       3.12   \n",
       "4           1    172.05       103.70        103.75        5.04       2.27   \n",
       "\n",
       "   length  \n",
       "0  112.83  \n",
       "1  113.29  \n",
       "2  113.84  \n",
       "3  113.63  \n",
       "4  113.55  "
      ]
     },
     "execution_count": 3,
     "metadata": {},
     "output_type": "execute_result"
    }
   ],
   "source": [
    "df['is_genuine'] = pd.get_dummies(df['is_genuine'], drop_first=True)\n",
    "df.head()"
   ]
  },
  {
   "cell_type": "code",
   "execution_count": 4,
   "id": "20a05cb7",
   "metadata": {},
   "outputs": [
    {
     "name": "stdout",
     "output_type": "stream",
     "text": [
      "pas de doublons\n"
     ]
    }
   ],
   "source": [
    "#recherche de potentiels duplicates du fichier df\n",
    "df.duplicated(keep=False)\n",
    "if 'True' in (df.duplicated(subset=['diagonal','height_left'],keep=False)):\n",
    "    print('présence un doublon')\n",
    "else:\n",
    "    print('pas de doublons') "
   ]
  },
  {
   "cell_type": "code",
   "execution_count": 5,
   "id": "7f46e752",
   "metadata": {},
   "outputs": [
    {
     "data": {
      "text/plain": [
       "is_genuine      0\n",
       "diagonal        0\n",
       "height_left     0\n",
       "height_right    0\n",
       "margin_low      0\n",
       "margin_up       0\n",
       "length          0\n",
       "dtype: int64"
      ]
     },
     "execution_count": 5,
     "metadata": {},
     "output_type": "execute_result"
    }
   ],
   "source": [
    "#pas de null\n",
    "df.isnull().sum()"
   ]
  },
  {
   "cell_type": "markdown",
   "id": "312f1c34",
   "metadata": {},
   "source": [
    "### 1. analyse exploratoire et étude des variables"
   ]
  },
  {
   "cell_type": "code",
   "execution_count": 6,
   "id": "caa443a3",
   "metadata": {},
   "outputs": [],
   "source": [
    "#on prepare les données et paramètre le modèle k-means\n",
    "data_k = scale(df.drop('is_genuine', axis=1))"
   ]
  },
  {
   "cell_type": "code",
   "execution_count": 7,
   "id": "905de5ca",
   "metadata": {},
   "outputs": [],
   "source": [
    "# On fait une boucle pour faire le modèle\n",
    "distortions = []\n",
    "K = range(1,10)\n",
    "for k in K:\n",
    "    model = KMeans(n_clusters=k)\n",
    "    model.fit(data_k)\n",
    "    distortions.append(model.inertia_)"
   ]
  },
  {
   "cell_type": "code",
   "execution_count": 8,
   "id": "06c44ee2",
   "metadata": {
    "scrolled": true
   },
   "outputs": [
    {
     "data": {
      "image/png": "[encoded data removed]",
      "text/plain": [
       "<Figure size 432x288 with 1 Axes>"
      ]
     },
     "metadata": {
      "needs_background": "light"
     },
     "output_type": "display_data"
    }
   ],
   "source": [
    "# On plot graphiquement une courbe 'Elbow'\n",
    "plt.figure(figsize=(6,4))\n",
    "plt.plot(K, distortions, 'bx-')\n",
    "plt.xlabel('k')\n",
    "plt.ylabel('Distortion')\n",
    "plt.title('The Elbow Method showing optimal k~2')\n",
    "#plt.savefig(\"elbow_for_best_k.png\")\n",
    "plt.show()"
   ]
  },
  {
   "cell_type": "code",
   "execution_count": 9,
   "id": "21717470",
   "metadata": {},
   "outputs": [],
   "source": [
    "#on re-paramètre model\n",
    "model = KMeans(n_clusters = 2, init = 'k-means++', n_init = 10)\n",
    "#On entre les données du DF\n",
    "k_means = model.fit(data_k)"
   ]
  },
  {
   "cell_type": "code",
   "execution_count": 10,
   "id": "dc72262b",
   "metadata": {},
   "outputs": [
    {
     "data": {
      "text/plain": [
       "0    93\n",
       "1    77\n",
       "Name: cluster, dtype: int64"
      ]
     },
     "execution_count": 10,
     "metadata": {},
     "output_type": "execute_result"
    }
   ],
   "source": [
    "# on sort le label du cluster dans une nouvelle variable\n",
    "df['cluster'] = k_means.labels_\n",
    "df['cluster'].value_counts()"
   ]
  },
  {
   "cell_type": "code",
   "execution_count": 11,
   "id": "d327ffdc",
   "metadata": {},
   "outputs": [
    {
     "data": {
      "text/html": [
       "<div>\n",
       "<style scoped>\n",
       "    .dataframe tbody tr th:only-of-type {\n",
       "        vertical-align: middle;\n",
       "    }\n",
       "\n",
       "    .dataframe tbody tr th {\n",
       "        vertical-align: top;\n",
       "    }\n",
       "\n",
       "    .dataframe thead th {\n",
       "        text-align: right;\n",
       "    }\n",
       "</style>\n",
       "<table border=\"1\" class=\"dataframe\">\n",
       "  <thead>\n",
       "    <tr style=\"text-align: right;\">\n",
       "      <th>cluster</th>\n",
       "      <th>0</th>\n",
       "      <th>1</th>\n",
       "    </tr>\n",
       "    <tr>\n",
       "      <th>is_genuine</th>\n",
       "      <th></th>\n",
       "      <th></th>\n",
       "    </tr>\n",
       "  </thead>\n",
       "  <tbody>\n",
       "    <tr>\n",
       "      <th>0</th>\n",
       "      <td>1</td>\n",
       "      <td>69</td>\n",
       "    </tr>\n",
       "    <tr>\n",
       "      <th>1</th>\n",
       "      <td>92</td>\n",
       "      <td>8</td>\n",
       "    </tr>\n",
       "  </tbody>\n",
       "</table>\n",
       "</div>"
      ],
      "text/plain": [
       "cluster      0   1\n",
       "is_genuine        \n",
       "0            1  69\n",
       "1           92   8"
      ]
     },
     "execution_count": 11,
     "metadata": {},
     "output_type": "execute_result"
    }
   ],
   "source": [
    "#la classification k-means correspond-t-elle à celle réelle donnée par 'is_genuine'?\n",
    "pd.crosstab(df.is_genuine, df.cluster)"
   ]
  },
  {
   "cell_type": "markdown",
   "id": "62607562",
   "metadata": {},
   "source": [
    "#### =>oui on a un seul faux positif/ 8 faux négatifs par k-means, on a cross-validé les groupes"
   ]
  },
  {
   "cell_type": "markdown",
   "id": "8d23517a",
   "metadata": {},
   "source": [
    "### on sort les plus grandes corrélations\n",
    "### (code emprunté ici https://stackoverflow.com/questions/17778394/list-highest-correlation-pairs-from-a-large-correlation-matrix-in-pandas )"
   ]
  },
  {
   "cell_type": "code",
   "execution_count": 12,
   "id": "b4409f34",
   "metadata": {},
   "outputs": [
    {
     "data": {
      "text/html": [
       "<div>\n",
       "<style scoped>\n",
       "    .dataframe tbody tr th:only-of-type {\n",
       "        vertical-align: middle;\n",
       "    }\n",
       "\n",
       "    .dataframe tbody tr th {\n",
       "        vertical-align: top;\n",
       "    }\n",
       "\n",
       "    .dataframe thead th {\n",
       "        text-align: right;\n",
       "    }\n",
       "</style>\n",
       "<table border=\"1\" class=\"dataframe\">\n",
       "  <thead>\n",
       "    <tr style=\"text-align: right;\">\n",
       "      <th></th>\n",
       "      <th>diagonal</th>\n",
       "      <th>height_left</th>\n",
       "      <th>height_right</th>\n",
       "      <th>margin_low</th>\n",
       "      <th>margin_up</th>\n",
       "      <th>length</th>\n",
       "    </tr>\n",
       "  </thead>\n",
       "  <tbody>\n",
       "    <tr>\n",
       "      <th>diagonal</th>\n",
       "      <td>1.000000</td>\n",
       "      <td>0.319584</td>\n",
       "      <td>0.220418</td>\n",
       "      <td>-0.181020</td>\n",
       "      <td>-0.027366</td>\n",
       "      <td>0.080295</td>\n",
       "    </tr>\n",
       "    <tr>\n",
       "      <th>height_left</th>\n",
       "      <td>0.319584</td>\n",
       "      <td>1.000000</td>\n",
       "      <td>0.734390</td>\n",
       "      <td>0.424530</td>\n",
       "      <td>0.324788</td>\n",
       "      <td>-0.421387</td>\n",
       "    </tr>\n",
       "    <tr>\n",
       "      <th>height_right</th>\n",
       "      <td>0.220418</td>\n",
       "      <td>0.734390</td>\n",
       "      <td>1.000000</td>\n",
       "      <td>0.509375</td>\n",
       "      <td>0.366918</td>\n",
       "      <td>-0.417021</td>\n",
       "    </tr>\n",
       "    <tr>\n",
       "      <th>margin_low</th>\n",
       "      <td>-0.181020</td>\n",
       "      <td>0.424530</td>\n",
       "      <td>0.509375</td>\n",
       "      <td>1.000000</td>\n",
       "      <td>0.171113</td>\n",
       "      <td>-0.637352</td>\n",
       "    </tr>\n",
       "    <tr>\n",
       "      <th>margin_up</th>\n",
       "      <td>-0.027366</td>\n",
       "      <td>0.324788</td>\n",
       "      <td>0.366918</td>\n",
       "      <td>0.171113</td>\n",
       "      <td>1.000000</td>\n",
       "      <td>-0.525284</td>\n",
       "    </tr>\n",
       "    <tr>\n",
       "      <th>length</th>\n",
       "      <td>0.080295</td>\n",
       "      <td>-0.421387</td>\n",
       "      <td>-0.417021</td>\n",
       "      <td>-0.637352</td>\n",
       "      <td>-0.525284</td>\n",
       "      <td>1.000000</td>\n",
       "    </tr>\n",
       "  </tbody>\n",
       "</table>\n",
       "</div>"
      ],
      "text/plain": [
       "              diagonal  height_left  height_right  margin_low  margin_up  \\\n",
       "diagonal      1.000000     0.319584      0.220418   -0.181020  -0.027366   \n",
       "height_left   0.319584     1.000000      0.734390    0.424530   0.324788   \n",
       "height_right  0.220418     0.734390      1.000000    0.509375   0.366918   \n",
       "margin_low   -0.181020     0.424530      0.509375    1.000000   0.171113   \n",
       "margin_up    -0.027366     0.324788      0.366918    0.171113   1.000000   \n",
       "length        0.080295    -0.421387     -0.417021   -0.637352  -0.525284   \n",
       "\n",
       "                length  \n",
       "diagonal      0.080295  \n",
       "height_left  -0.421387  \n",
       "height_right -0.417021  \n",
       "margin_low   -0.637352  \n",
       "margin_up    -0.525284  \n",
       "length        1.000000  "
      ]
     },
     "execution_count": 12,
     "metadata": {},
     "output_type": "execute_result"
    }
   ],
   "source": [
    "df.drop(['is_genuine','cluster'], axis=1).corr()"
   ]
  },
  {
   "cell_type": "code",
   "execution_count": 13,
   "id": "ce3f3c06",
   "metadata": {},
   "outputs": [
    {
     "data": {
      "text/html": [
       "<style type=\"text/css\">\n",
       "#T_31ef1_row0_col0, #T_31ef1_row1_col0, #T_31ef1_row1_col1, #T_31ef1_row2_col0, #T_31ef1_row2_col1, #T_31ef1_row2_col2, #T_31ef1_row3_col0, #T_31ef1_row3_col1, #T_31ef1_row3_col2, #T_31ef1_row3_col3, #T_31ef1_row4_col0, #T_31ef1_row4_col1, #T_31ef1_row4_col2, #T_31ef1_row4_col3, #T_31ef1_row4_col4, #T_31ef1_row5_col0, #T_31ef1_row5_col1, #T_31ef1_row5_col2, #T_31ef1_row5_col3, #T_31ef1_row5_col4, #T_31ef1_row5_col5 {\n",
       "  background-color: #000000;\n",
       "  color: #f1f1f1;\n",
       "  background-color: #f1f1f1;\n",
       "}\n",
       "#T_31ef1_row0_col1 {\n",
       "  background-color: #f7ba9f;\n",
       "  color: #000000;\n",
       "}\n",
       "#T_31ef1_row0_col2 {\n",
       "  background-color: #f3c8b2;\n",
       "  color: #000000;\n",
       "}\n",
       "#T_31ef1_row0_col3 {\n",
       "  background-color: #f1cdba;\n",
       "  color: #000000;\n",
       "}\n",
       "#T_31ef1_row0_col4 {\n",
       "  background-color: #e0dbd8;\n",
       "  color: #000000;\n",
       "}\n",
       "#T_31ef1_row0_col5 {\n",
       "  background-color: #e7d7ce;\n",
       "  color: #000000;\n",
       "}\n",
       "#T_31ef1_row1_col2 {\n",
       "  background-color: #df634e;\n",
       "  color: #f1f1f1;\n",
       "}\n",
       "#T_31ef1_row1_col3 {\n",
       "  background-color: #f7a889;\n",
       "  color: #000000;\n",
       "}\n",
       "#T_31ef1_row1_col4 {\n",
       "  background-color: #f7b99e;\n",
       "  color: #000000;\n",
       "}\n",
       "#T_31ef1_row1_col5, #T_31ef1_row2_col5 {\n",
       "  background-color: #f7a98b;\n",
       "  color: #000000;\n",
       "}\n",
       "#T_31ef1_row2_col3 {\n",
       "  background-color: #f39778;\n",
       "  color: #000000;\n",
       "}\n",
       "#T_31ef1_row2_col4 {\n",
       "  background-color: #f7b396;\n",
       "  color: #000000;\n",
       "}\n",
       "#T_31ef1_row3_col4 {\n",
       "  background-color: #efcebd;\n",
       "  color: #000000;\n",
       "}\n",
       "#T_31ef1_row3_col5 {\n",
       "  background-color: #ea7b60;\n",
       "  color: #f1f1f1;\n",
       "}\n",
       "#T_31ef1_row4_col5 {\n",
       "  background-color: #f39475;\n",
       "  color: #000000;\n",
       "}\n",
       "</style>\n",
       "<table id=\"T_31ef1_\">\n",
       "  <thead>\n",
       "    <tr>\n",
       "      <th class=\"blank level0\" >&nbsp;</th>\n",
       "      <th class=\"col_heading level0 col0\" >diagonal</th>\n",
       "      <th class=\"col_heading level0 col1\" >height_left</th>\n",
       "      <th class=\"col_heading level0 col2\" >height_right</th>\n",
       "      <th class=\"col_heading level0 col3\" >margin_low</th>\n",
       "      <th class=\"col_heading level0 col4\" >margin_up</th>\n",
       "      <th class=\"col_heading level0 col5\" >length</th>\n",
       "    </tr>\n",
       "  </thead>\n",
       "  <tbody>\n",
       "    <tr>\n",
       "      <th id=\"T_31ef1_level0_row0\" class=\"row_heading level0 row0\" >diagonal</th>\n",
       "      <td id=\"T_31ef1_row0_col0\" class=\"data row0 col0\" >nan</td>\n",
       "      <td id=\"T_31ef1_row0_col1\" class=\"data row0 col1\" >0.32</td>\n",
       "      <td id=\"T_31ef1_row0_col2\" class=\"data row0 col2\" >0.22</td>\n",
       "      <td id=\"T_31ef1_row0_col3\" class=\"data row0 col3\" >0.18</td>\n",
       "      <td id=\"T_31ef1_row0_col4\" class=\"data row0 col4\" >0.03</td>\n",
       "      <td id=\"T_31ef1_row0_col5\" class=\"data row0 col5\" >0.08</td>\n",
       "    </tr>\n",
       "    <tr>\n",
       "      <th id=\"T_31ef1_level0_row1\" class=\"row_heading level0 row1\" >height_left</th>\n",
       "      <td id=\"T_31ef1_row1_col0\" class=\"data row1 col0\" >nan</td>\n",
       "      <td id=\"T_31ef1_row1_col1\" class=\"data row1 col1\" >nan</td>\n",
       "      <td id=\"T_31ef1_row1_col2\" class=\"data row1 col2\" >0.73</td>\n",
       "      <td id=\"T_31ef1_row1_col3\" class=\"data row1 col3\" >0.42</td>\n",
       "      <td id=\"T_31ef1_row1_col4\" class=\"data row1 col4\" >0.32</td>\n",
       "      <td id=\"T_31ef1_row1_col5\" class=\"data row1 col5\" >0.42</td>\n",
       "    </tr>\n",
       "    <tr>\n",
       "      <th id=\"T_31ef1_level0_row2\" class=\"row_heading level0 row2\" >height_right</th>\n",
       "      <td id=\"T_31ef1_row2_col0\" class=\"data row2 col0\" >nan</td>\n",
       "      <td id=\"T_31ef1_row2_col1\" class=\"data row2 col1\" >nan</td>\n",
       "      <td id=\"T_31ef1_row2_col2\" class=\"data row2 col2\" >nan</td>\n",
       "      <td id=\"T_31ef1_row2_col3\" class=\"data row2 col3\" >0.51</td>\n",
       "      <td id=\"T_31ef1_row2_col4\" class=\"data row2 col4\" >0.37</td>\n",
       "      <td id=\"T_31ef1_row2_col5\" class=\"data row2 col5\" >0.42</td>\n",
       "    </tr>\n",
       "    <tr>\n",
       "      <th id=\"T_31ef1_level0_row3\" class=\"row_heading level0 row3\" >margin_low</th>\n",
       "      <td id=\"T_31ef1_row3_col0\" class=\"data row3 col0\" >nan</td>\n",
       "      <td id=\"T_31ef1_row3_col1\" class=\"data row3 col1\" >nan</td>\n",
       "      <td id=\"T_31ef1_row3_col2\" class=\"data row3 col2\" >nan</td>\n",
       "      <td id=\"T_31ef1_row3_col3\" class=\"data row3 col3\" >nan</td>\n",
       "      <td id=\"T_31ef1_row3_col4\" class=\"data row3 col4\" >0.17</td>\n",
       "      <td id=\"T_31ef1_row3_col5\" class=\"data row3 col5\" >0.64</td>\n",
       "    </tr>\n",
       "    <tr>\n",
       "      <th id=\"T_31ef1_level0_row4\" class=\"row_heading level0 row4\" >margin_up</th>\n",
       "      <td id=\"T_31ef1_row4_col0\" class=\"data row4 col0\" >nan</td>\n",
       "      <td id=\"T_31ef1_row4_col1\" class=\"data row4 col1\" >nan</td>\n",
       "      <td id=\"T_31ef1_row4_col2\" class=\"data row4 col2\" >nan</td>\n",
       "      <td id=\"T_31ef1_row4_col3\" class=\"data row4 col3\" >nan</td>\n",
       "      <td id=\"T_31ef1_row4_col4\" class=\"data row4 col4\" >nan</td>\n",
       "      <td id=\"T_31ef1_row4_col5\" class=\"data row4 col5\" >0.53</td>\n",
       "    </tr>\n",
       "    <tr>\n",
       "      <th id=\"T_31ef1_level0_row5\" class=\"row_heading level0 row5\" >length</th>\n",
       "      <td id=\"T_31ef1_row5_col0\" class=\"data row5 col0\" >nan</td>\n",
       "      <td id=\"T_31ef1_row5_col1\" class=\"data row5 col1\" >nan</td>\n",
       "      <td id=\"T_31ef1_row5_col2\" class=\"data row5 col2\" >nan</td>\n",
       "      <td id=\"T_31ef1_row5_col3\" class=\"data row5 col3\" >nan</td>\n",
       "      <td id=\"T_31ef1_row5_col4\" class=\"data row5 col4\" >nan</td>\n",
       "      <td id=\"T_31ef1_row5_col5\" class=\"data row5 col5\" >nan</td>\n",
       "    </tr>\n",
       "  </tbody>\n",
       "</table>\n"
      ],
      "text/plain": [
       "<pandas.io.formats.style.Styler at 0x7f6b13a28eb0>"
      ]
     },
     "execution_count": 13,
     "metadata": {},
     "output_type": "execute_result"
    }
   ],
   "source": [
    "#on plot une matrice de correlation\n",
    "corr_matrix = df.drop(['is_genuine','cluster'], axis=1).corr().abs()\n",
    "#the matrix is symmetric so we need to extract upper triangle matrix without diagonal (k = 1)\n",
    "sol = (corr_matrix.where(np.triu(np.ones(corr_matrix.shape), k=1).astype(bool)))\n",
    "                  #.stack()\n",
    "                  #.sort_values(ascending=False))\n",
    "# Color NaNs grey\n",
    "sol.style\\\n",
    "    .background_gradient(cmap='coolwarm', axis=None, vmin=-1, vmax=1)\\\n",
    "    .highlight_null(null_color='#f1f1f1')\\\n",
    "    .format(precision=2)"
   ]
  },
  {
   "cell_type": "code",
   "execution_count": 14,
   "id": "1afc0d7a",
   "metadata": {},
   "outputs": [
    {
     "data": {
      "text/plain": [
       "height_left   height_right    0.734390\n",
       "margin_low    length          0.637352\n",
       "margin_up     length          0.525284\n",
       "height_right  margin_low      0.509375\n",
       "height_left   margin_low      0.424530\n",
       "dtype: float64"
      ]
     },
     "execution_count": 14,
     "metadata": {},
     "output_type": "execute_result"
    }
   ],
   "source": [
    "#Top 5 plus grandes corrélations\n",
    "sol.stack().sort_values(ascending=False).head(5)"
   ]
  },
  {
   "cell_type": "code",
   "execution_count": 15,
   "id": "228623c6",
   "metadata": {},
   "outputs": [
    {
     "data": {
      "text/plain": [
       "<seaborn.axisgrid.PairGrid at 0x7f6b139e2fa0>"
      ]
     },
     "execution_count": 15,
     "metadata": {},
     "output_type": "execute_result"
    },
    {
     "data": {
      "image/png": "[encoded data removed]",
      "text/plain": [
       "<Figure size 360x360 with 6 Axes>"
      ]
     },
     "metadata": {
      "needs_background": "light"
     },
     "output_type": "display_data"
    }
   ],
   "source": [
    "#on étudie les var les plus corrélées révélées par la matrice de corrélation\n",
    "sns.pairplot(df[['height_left',\\\n",
    "'margin_up']],kind=\"reg\", plot_kws={'line_kws':{'color':'black'}})\n",
    "#plt.savefig(\"elbow_for_best_k.pdf\")"
   ]
  },
  {
   "cell_type": "code",
   "execution_count": 16,
   "id": "3d2a9744",
   "metadata": {},
   "outputs": [
    {
     "data": {
      "text/plain": [
       "Text(0.5, 1.0, 'log reg of margin_up into is_genuine')"
      ]
     },
     "execution_count": 16,
     "metadata": {},
     "output_type": "execute_result"
    },
    {
     "data": {
      "image/png": "[encoded data removed]",
      "text/plain": [
       "<Figure size 432x288 with 1 Axes>"
      ]
     },
     "metadata": {
      "needs_background": "light"
     },
     "output_type": "display_data"
    }
   ],
   "source": [
    "# on fait différents test pour observer graphiquement la qualité des variables pour une Reg Log\n",
    "# on remaqrque que les var 'diagonal, height_right' ne semblent pas pas pertinente dans ce modèle : \n",
    "# sa courbe ressemble presque à une droite\n",
    "sns.regplot(x=\"margin_up\", y=\"is_genuine\", data=df[['margin_up', 'is_genuine']],\n",
    "\n",
    "                 logistic=True, n_boot=500, y_jitter=.03)\n",
    "plt.title('log reg of margin_up into is_genuine')\n",
    "#plt.savefig(\"LogReg_example.png\")"
   ]
  },
  {
   "cell_type": "code",
   "execution_count": 17,
   "id": "050368c9",
   "metadata": {},
   "outputs": [
    {
     "data": {
      "text/plain": [
       "<AxesSubplot:xlabel='height_left', ylabel='is_genuine'>"
      ]
     },
     "execution_count": 17,
     "metadata": {},
     "output_type": "execute_result"
    },
    {
     "data": {
      "image/png": "[encoded data removed]",
      "text/plain": [
       "<Figure size 432x288 with 1 Axes>"
      ]
     },
     "metadata": {
      "needs_background": "light"
     },
     "output_type": "display_data"
    }
   ],
   "source": [
    "#plot logistic regression avec uniquement la var height_left\n",
    "sns.regplot(x=df.height_left, y=df.is_genuine, data=df[['height_left', 'is_genuine']], logistic=True, ci=None,\n",
    "            scatter_kws={'color': 'blue'}, line_kws={'color': 'orange'})"
   ]
  },
  {
   "cell_type": "code",
   "execution_count": 18,
   "id": "ce1f5aec",
   "metadata": {},
   "outputs": [
    {
     "data": {
      "text/plain": [
       "(ShapiroResult(statistic=0.9889172315597534, pvalue=0.20443524420261383),\n",
       " ShapiroResult(statistic=0.9927234649658203, pvalue=0.5533669590950012))"
      ]
     },
     "execution_count": 18,
     "metadata": {},
     "output_type": "execute_result"
    }
   ],
   "source": [
    "#On a une variable \n",
    "#H0 la variable suit une Loi normale\n",
    "#H1 la variable ne suit pas une Loi normale\n",
    "shapiro(df[\"margin_up\"]), shapiro(df[\"height_left\"])"
   ]
  },
  {
   "cell_type": "code",
   "execution_count": 19,
   "id": "10609f19",
   "metadata": {},
   "outputs": [],
   "source": [
    "#### => on trouve que p>>0.05 Donc le hasard pourrait causer qu'on n'observe pas une distribution normale de notre dataset"
   ]
  },
  {
   "cell_type": "markdown",
   "id": "cb583d88",
   "metadata": {},
   "source": [
    "### 2. Réduction de la dimension (on emprunte à la méthode Epimed université de Grenoble)\n",
    "https://github.com/epimed/eoc-ai-session-2/blob/main/notebook/demo_pca_tsne_umap.ipynb"
   ]
  },
  {
   "cell_type": "code",
   "execution_count": 20,
   "id": "1127965e",
   "metadata": {},
   "outputs": [],
   "source": [
    "# Données des caractéristiques de pays, on split le jeur de données\n",
    "data_df = df.drop(['is_genuine','cluster'], axis=1)\n",
    "X = data_df.select_dtypes('number') \n",
    "#on mets la var cluster dans un objet séparé, elle ne fait pas partie des données à analyser\n",
    "#mais elle nous servira pour comparer la classification k-means vs. structure graphique PCA\n",
    "y = df['is_genuine']"
   ]
  },
  {
   "cell_type": "code",
   "execution_count": 21,
   "id": "f02eff25",
   "metadata": {},
   "outputs": [
    {
     "data": {
      "text/plain": [
       "<AxesSubplot:ylabel='Distribution'>"
      ]
     },
     "execution_count": 21,
     "metadata": {},
     "output_type": "execute_result"
    },
    {
     "data": {
      "image/png": "[encoded data removed]",
      "text/plain": [
       "<Figure size 1080x288 with 1 Axes>"
      ]
     },
     "metadata": {
      "needs_background": "light"
     },
     "output_type": "display_data"
    }
   ],
   "source": [
    "#on observe la variance des variables\n",
    "X.plot(kind='box', figsize=(15, 4), rot=90, ylabel='Distribution')"
   ]
  },
  {
   "cell_type": "code",
   "execution_count": 22,
   "id": "5e08e66e",
   "metadata": {},
   "outputs": [],
   "source": [
    "scaler = StandardScaler() # instanciation de l'objet scaler\n",
    "X_scaled = scaler.fit_transform(X) # normalisation centrée-réduite\n",
    "X_scaled = pd.DataFrame(X_scaled, index=X.index, columns=X.columns) # conversion du résultat en objet dataframe de pandas"
   ]
  },
  {
   "cell_type": "code",
   "execution_count": 23,
   "id": "96d83bfb",
   "metadata": {},
   "outputs": [
    {
     "data": {
      "text/html": [
       "<div>\n",
       "<style scoped>\n",
       "    .dataframe tbody tr th:only-of-type {\n",
       "        vertical-align: middle;\n",
       "    }\n",
       "\n",
       "    .dataframe tbody tr th {\n",
       "        vertical-align: top;\n",
       "    }\n",
       "\n",
       "    .dataframe thead th {\n",
       "        text-align: right;\n",
       "    }\n",
       "</style>\n",
       "<table border=\"1\" class=\"dataframe\">\n",
       "  <thead>\n",
       "    <tr style=\"text-align: right;\">\n",
       "      <th></th>\n",
       "      <th>diagonal</th>\n",
       "      <th>height_left</th>\n",
       "      <th>height_right</th>\n",
       "      <th>margin_low</th>\n",
       "      <th>margin_up</th>\n",
       "      <th>length</th>\n",
       "    </tr>\n",
       "  </thead>\n",
       "  <tbody>\n",
       "    <tr>\n",
       "      <th>0</th>\n",
       "      <td>-0.428344</td>\n",
       "      <td>2.669454</td>\n",
       "      <td>3.096563</td>\n",
       "      <td>-0.131590</td>\n",
       "      <td>-1.189874</td>\n",
       "      <td>0.281633</td>\n",
       "    </tr>\n",
       "    <tr>\n",
       "      <th>1</th>\n",
       "      <td>-0.887559</td>\n",
       "      <td>-1.097697</td>\n",
       "      <td>-0.691254</td>\n",
       "      <td>-0.860126</td>\n",
       "      <td>-1.274740</td>\n",
       "      <td>0.780697</td>\n",
       "    </tr>\n",
       "    <tr>\n",
       "      <th>2</th>\n",
       "      <td>-0.362742</td>\n",
       "      <td>-1.030427</td>\n",
       "      <td>-0.509439</td>\n",
       "      <td>-0.303010</td>\n",
       "      <td>-1.232307</td>\n",
       "      <td>1.377405</td>\n",
       "    </tr>\n",
       "    <tr>\n",
       "      <th>3</th>\n",
       "      <td>-0.461145</td>\n",
       "      <td>-0.963156</td>\n",
       "      <td>-0.842767</td>\n",
       "      <td>-1.260106</td>\n",
       "      <td>-0.213913</td>\n",
       "      <td>1.149571</td>\n",
       "    </tr>\n",
       "    <tr>\n",
       "      <th>4</th>\n",
       "      <td>0.358883</td>\n",
       "      <td>-1.232238</td>\n",
       "      <td>-0.539742</td>\n",
       "      <td>0.611230</td>\n",
       "      <td>-3.820725</td>\n",
       "      <td>1.062777</td>\n",
       "    </tr>\n",
       "  </tbody>\n",
       "</table>\n",
       "</div>"
      ],
      "text/plain": [
       "   diagonal  height_left  height_right  margin_low  margin_up    length\n",
       "0 -0.428344     2.669454      3.096563   -0.131590  -1.189874  0.281633\n",
       "1 -0.887559    -1.097697     -0.691254   -0.860126  -1.274740  0.780697\n",
       "2 -0.362742    -1.030427     -0.509439   -0.303010  -1.232307  1.377405\n",
       "3 -0.461145    -0.963156     -0.842767   -1.260106  -0.213913  1.149571\n",
       "4  0.358883    -1.232238     -0.539742    0.611230  -3.820725  1.062777"
      ]
     },
     "execution_count": 23,
     "metadata": {},
     "output_type": "execute_result"
    }
   ],
   "source": [
    "X_scaled.head()"
   ]
  },
  {
   "cell_type": "code",
   "execution_count": 24,
   "id": "f1c73e9c",
   "metadata": {},
   "outputs": [
    {
     "data": {
      "text/plain": [
       "<AxesSubplot:ylabel='Distribution'>"
      ]
     },
     "execution_count": 24,
     "metadata": {},
     "output_type": "execute_result"
    },
    {
     "data": {
      "image/png": "[encoded data removed]",
      "text/plain": [
       "<Figure size 1080x288 with 1 Axes>"
      ]
     },
     "metadata": {
      "needs_background": "light"
     },
     "output_type": "display_data"
    }
   ],
   "source": [
    "X_scaled.plot(kind='box', figsize=(15, 4), rot=90, ylabel='Distribution')"
   ]
  },
  {
   "cell_type": "code",
   "execution_count": 25,
   "id": "65703b18",
   "metadata": {},
   "outputs": [
    {
     "data": {
      "text/html": [
       "<div>\n",
       "<style scoped>\n",
       "    .dataframe tbody tr th:only-of-type {\n",
       "        vertical-align: middle;\n",
       "    }\n",
       "\n",
       "    .dataframe tbody tr th {\n",
       "        vertical-align: top;\n",
       "    }\n",
       "\n",
       "    .dataframe thead th {\n",
       "        text-align: right;\n",
       "    }\n",
       "</style>\n",
       "<table border=\"1\" class=\"dataframe\">\n",
       "  <thead>\n",
       "    <tr style=\"text-align: right;\">\n",
       "      <th></th>\n",
       "      <th>PC1</th>\n",
       "      <th>PC2</th>\n",
       "      <th>PC3</th>\n",
       "      <th>PC4</th>\n",
       "      <th>PC5</th>\n",
       "      <th>PC6</th>\n",
       "    </tr>\n",
       "  </thead>\n",
       "  <tbody>\n",
       "    <tr>\n",
       "      <th>0</th>\n",
       "      <td>2.153639</td>\n",
       "      <td>1.599709</td>\n",
       "      <td>1.787451</td>\n",
       "      <td>2.433465</td>\n",
       "      <td>0.699690</td>\n",
       "      <td>-1.267702</td>\n",
       "    </tr>\n",
       "    <tr>\n",
       "      <th>1</th>\n",
       "      <td>-2.110416</td>\n",
       "      <td>-0.526039</td>\n",
       "      <td>0.542563</td>\n",
       "      <td>0.344550</td>\n",
       "      <td>0.067440</td>\n",
       "      <td>-0.544601</td>\n",
       "    </tr>\n",
       "    <tr>\n",
       "      <th>2</th>\n",
       "      <td>-1.973152</td>\n",
       "      <td>-0.048102</td>\n",
       "      <td>0.858716</td>\n",
       "      <td>0.374812</td>\n",
       "      <td>-0.424886</td>\n",
       "      <td>0.080487</td>\n",
       "    </tr>\n",
       "    <tr>\n",
       "      <th>3</th>\n",
       "      <td>-2.059795</td>\n",
       "      <td>-0.089105</td>\n",
       "      <td>-0.531529</td>\n",
       "      <td>0.519548</td>\n",
       "      <td>-0.033267</td>\n",
       "      <td>-0.038261</td>\n",
       "    </tr>\n",
       "    <tr>\n",
       "      <th>4</th>\n",
       "      <td>-2.403180</td>\n",
       "      <td>0.412170</td>\n",
       "      <td>3.319507</td>\n",
       "      <td>-0.837043</td>\n",
       "      <td>-0.420151</td>\n",
       "      <td>-0.445099</td>\n",
       "    </tr>\n",
       "  </tbody>\n",
       "</table>\n",
       "</div>"
      ],
      "text/plain": [
       "        PC1       PC2       PC3       PC4       PC5       PC6\n",
       "0  2.153639  1.599709  1.787451  2.433465  0.699690 -1.267702\n",
       "1 -2.110416 -0.526039  0.542563  0.344550  0.067440 -0.544601\n",
       "2 -1.973152 -0.048102  0.858716  0.374812 -0.424886  0.080487\n",
       "3 -2.059795 -0.089105 -0.531529  0.519548 -0.033267 -0.038261\n",
       "4 -2.403180  0.412170  3.319507 -0.837043 -0.420151 -0.445099"
      ]
     },
     "execution_count": 25,
     "metadata": {},
     "output_type": "execute_result"
    }
   ],
   "source": [
    "#On plot les coordonnées en 6 dimensions dans le plan engendré par les eigenvecteurs\n",
    "pca = PCA() # instanciation de l'objet pca\n",
    "X_p = pca.fit_transform(X_scaled)\n",
    "pca_columns = ['PC' + str(c) for c in range(1, X_p.shape[1]+1, 1)]\n",
    "\n",
    "X_pca = pd.DataFrame(X_p, index=X.index, columns=pca_columns) # création du dataframe\n",
    "X_pca.head()"
   ]
  },
  {
   "cell_type": "code",
   "execution_count": 26,
   "id": "38076f68",
   "metadata": {},
   "outputs": [
    {
     "name": "stdout",
     "output_type": "stream",
     "text": [
      "PC1    47.447921\n",
      "PC2    21.957106\n",
      "PC3    14.234524\n",
      "PC4     8.526295\n",
      "PC5     4.612822\n",
      "PC6     3.221331\n",
      "dtype: float64\n"
     ]
    }
   ],
   "source": [
    "#print(pca.explained_variance_ratio_)\n",
    "explained_variance = pd.Series(dict(zip(X_pca.columns, 100.0*pca.explained_variance_ratio_)))\n",
    "print(explained_variance)"
   ]
  },
  {
   "cell_type": "code",
   "execution_count": 27,
   "id": "887c53d1",
   "metadata": {},
   "outputs": [
    {
     "data": {
      "text/plain": [
       "<AxesSubplot:title={'center':'Ebouli des valeurs propres en termes de variance relative'}, ylabel='explained Variance'>"
      ]
     },
     "execution_count": 27,
     "metadata": {},
     "output_type": "execute_result"
    },
    {
     "data": {
      "image/png": "[encoded data removed]",
      "text/plain": [
       "<Figure size 432x288 with 1 Axes>"
      ]
     },
     "metadata": {
      "needs_background": "light"
     },
     "output_type": "display_data"
    }
   ],
   "source": [
    "explained_variance.plot(kind='bar', title=\"Ebouli des valeurs propres en termes de variance relative\", ylabel='explained Variance')"
   ]
  },
  {
   "cell_type": "code",
   "execution_count": 28,
   "id": "6879cad1",
   "metadata": {},
   "outputs": [
    {
     "data": {
      "text/html": [
       "<style type=\"text/css\">\n",
       "#T_c0613_row0_col0 {\n",
       "  background-color: #e6d7cf;\n",
       "  color: #000000;\n",
       "}\n",
       "#T_c0613_row0_col1 {\n",
       "  background-color: #f59f80;\n",
       "  color: #000000;\n",
       "}\n",
       "#T_c0613_row0_col2 {\n",
       "  background-color: #f59c7d;\n",
       "  color: #000000;\n",
       "}\n",
       "#T_c0613_row0_col3 {\n",
       "  background-color: #f7a688;\n",
       "  color: #000000;\n",
       "}\n",
       "#T_c0613_row0_col4, #T_c0613_row5_col4 {\n",
       "  background-color: #f7b497;\n",
       "  color: #000000;\n",
       "}\n",
       "#T_c0613_row0_col5 {\n",
       "  background-color: #93b5fe;\n",
       "  color: #000000;\n",
       "}\n",
       "#T_c0613_row1_col0 {\n",
       "  background-color: #d95847;\n",
       "  color: #f1f1f1;\n",
       "}\n",
       "#T_c0613_row1_col1 {\n",
       "  background-color: #f7b79b;\n",
       "  color: #000000;\n",
       "}\n",
       "#T_c0613_row1_col2 {\n",
       "  background-color: #f4c6af;\n",
       "  color: #000000;\n",
       "}\n",
       "#T_c0613_row1_col3 {\n",
       "  background-color: #abc8fd;\n",
       "  color: #000000;\n",
       "}\n",
       "#T_c0613_row1_col4 {\n",
       "  background-color: #c9d7f0;\n",
       "  color: #000000;\n",
       "}\n",
       "#T_c0613_row1_col5 {\n",
       "  background-color: #f7ba9f;\n",
       "  color: #000000;\n",
       "}\n",
       "#T_c0613_row2_col0 {\n",
       "  background-color: #d1dae9;\n",
       "  color: #000000;\n",
       "}\n",
       "#T_c0613_row2_col1, #T_c0613_row5_col0 {\n",
       "  background-color: #ebd3c6;\n",
       "  color: #000000;\n",
       "}\n",
       "#T_c0613_row2_col2 {\n",
       "  background-color: #eed0c0;\n",
       "  color: #000000;\n",
       "}\n",
       "#T_c0613_row2_col3 {\n",
       "  background-color: #f39778;\n",
       "  color: #000000;\n",
       "}\n",
       "#T_c0613_row2_col4 {\n",
       "  background-color: #5572df;\n",
       "  color: #f1f1f1;\n",
       "}\n",
       "#T_c0613_row2_col5 {\n",
       "  background-color: #ecd3c5;\n",
       "  color: #000000;\n",
       "}\n",
       "#T_c0613_row3_col0 {\n",
       "  background-color: #82a6fb;\n",
       "  color: #f1f1f1;\n",
       "}\n",
       "#T_c0613_row3_col1 {\n",
       "  background-color: #f5c0a7;\n",
       "  color: #000000;\n",
       "}\n",
       "#T_c0613_row3_col2 {\n",
       "  background-color: #f6a283;\n",
       "  color: #000000;\n",
       "}\n",
       "#T_c0613_row3_col3, #T_c0613_row4_col0 {\n",
       "  background-color: #bcd2f7;\n",
       "  color: #000000;\n",
       "}\n",
       "#T_c0613_row3_col4 {\n",
       "  background-color: #edd2c3;\n",
       "  color: #000000;\n",
       "}\n",
       "#T_c0613_row3_col5 {\n",
       "  background-color: #f08a6c;\n",
       "  color: #f1f1f1;\n",
       "}\n",
       "#T_c0613_row4_col1 {\n",
       "  background-color: #e26952;\n",
       "  color: #f1f1f1;\n",
       "}\n",
       "#T_c0613_row4_col2 {\n",
       "  background-color: #8fb1fe;\n",
       "  color: #000000;\n",
       "}\n",
       "#T_c0613_row4_col3 {\n",
       "  background-color: #aec9fc;\n",
       "  color: #000000;\n",
       "}\n",
       "#T_c0613_row4_col4 {\n",
       "  background-color: #c1d4f4;\n",
       "  color: #000000;\n",
       "}\n",
       "#T_c0613_row4_col5 {\n",
       "  background-color: #b7cff9;\n",
       "  color: #000000;\n",
       "}\n",
       "#T_c0613_row5_col1 {\n",
       "  background-color: #f3c7b1;\n",
       "  color: #000000;\n",
       "}\n",
       "#T_c0613_row5_col2 {\n",
       "  background-color: #90b2fe;\n",
       "  color: #000000;\n",
       "}\n",
       "#T_c0613_row5_col3 {\n",
       "  background-color: #f18f71;\n",
       "  color: #f1f1f1;\n",
       "}\n",
       "#T_c0613_row5_col5 {\n",
       "  background-color: #f39475;\n",
       "  color: #000000;\n",
       "}\n",
       "</style>\n",
       "<table id=\"T_c0613_\">\n",
       "  <thead>\n",
       "    <tr>\n",
       "      <th class=\"blank level0\" >&nbsp;</th>\n",
       "      <th class=\"col_heading level0 col0\" >PC1</th>\n",
       "      <th class=\"col_heading level0 col1\" >PC2</th>\n",
       "      <th class=\"col_heading level0 col2\" >PC3</th>\n",
       "      <th class=\"col_heading level0 col3\" >PC4</th>\n",
       "      <th class=\"col_heading level0 col4\" >PC5</th>\n",
       "      <th class=\"col_heading level0 col5\" >PC6</th>\n",
       "    </tr>\n",
       "  </thead>\n",
       "  <tbody>\n",
       "    <tr>\n",
       "      <th id=\"T_c0613_level0_row0\" class=\"row_heading level0 row0\" >diagonal</th>\n",
       "      <td id=\"T_c0613_row0_col0\" class=\"data row0 col0\" >0.07</td>\n",
       "      <td id=\"T_c0613_row0_col1\" class=\"data row0 col1\" >0.48</td>\n",
       "      <td id=\"T_c0613_row0_col2\" class=\"data row0 col2\" >0.49</td>\n",
       "      <td id=\"T_c0613_row0_col3\" class=\"data row0 col3\" >0.43</td>\n",
       "      <td id=\"T_c0613_row0_col4\" class=\"data row0 col4\" >0.35</td>\n",
       "      <td id=\"T_c0613_row0_col5\" class=\"data row0 col5\" >-0.47</td>\n",
       "    </tr>\n",
       "    <tr>\n",
       "      <th id=\"T_c0613_level0_row1\" class=\"row_heading level0 row1\" >height_left</th>\n",
       "      <td id=\"T_c0613_row1_col0\" class=\"data row1 col0\" >0.78</td>\n",
       "      <td id=\"T_c0613_row1_col1\" class=\"data row1 col1\" >0.34</td>\n",
       "      <td id=\"T_c0613_row1_col2\" class=\"data row1 col2\" >0.24</td>\n",
       "      <td id=\"T_c0613_row1_col3\" class=\"data row1 col3\" >-0.32</td>\n",
       "      <td id=\"T_c0613_row1_col4\" class=\"data row1 col4\" >-0.14</td>\n",
       "      <td id=\"T_c0613_row1_col5\" class=\"data row1 col5\" >0.31</td>\n",
       "    </tr>\n",
       "    <tr>\n",
       "      <th id=\"T_c0613_level0_row2\" class=\"row_heading level0 row2\" >height_right</th>\n",
       "      <td id=\"T_c0613_row2_col0\" class=\"data row2 col0\" >-0.09</td>\n",
       "      <td id=\"T_c0613_row2_col1\" class=\"data row2 col1\" >0.12</td>\n",
       "      <td id=\"T_c0613_row2_col2\" class=\"data row2 col2\" >0.15</td>\n",
       "      <td id=\"T_c0613_row2_col3\" class=\"data row2 col3\" >0.51</td>\n",
       "      <td id=\"T_c0613_row2_col4\" class=\"data row2 col4\" >-0.82</td>\n",
       "      <td id=\"T_c0613_row2_col5\" class=\"data row2 col5\" >0.13</td>\n",
       "    </tr>\n",
       "    <tr>\n",
       "      <th id=\"T_c0613_level0_row3\" class=\"row_heading level0 row3\" >margin_low</th>\n",
       "      <td id=\"T_c0613_row3_col0\" class=\"data row3 col0\" >-0.56</td>\n",
       "      <td id=\"T_c0613_row3_col1\" class=\"data row3 col1\" >0.28</td>\n",
       "      <td id=\"T_c0613_row3_col2\" class=\"data row3 col2\" >0.46</td>\n",
       "      <td id=\"T_c0613_row3_col3\" class=\"data row3 col3\" >-0.23</td>\n",
       "      <td id=\"T_c0613_row3_col4\" class=\"data row3 col4\" >0.14</td>\n",
       "      <td id=\"T_c0613_row3_col5\" class=\"data row3 col5\" >0.57</td>\n",
       "    </tr>\n",
       "    <tr>\n",
       "      <th id=\"T_c0613_level0_row4\" class=\"row_heading level0 row4\" >margin_up</th>\n",
       "      <td id=\"T_c0613_row4_col0\" class=\"data row4 col0\" >-0.23</td>\n",
       "      <td id=\"T_c0613_row4_col1\" class=\"data row4 col1\" >0.72</td>\n",
       "      <td id=\"T_c0613_row4_col2\" class=\"data row4 col2\" >-0.49</td>\n",
       "      <td id=\"T_c0613_row4_col3\" class=\"data row4 col3\" >-0.31</td>\n",
       "      <td id=\"T_c0613_row4_col4\" class=\"data row4 col4\" >-0.19</td>\n",
       "      <td id=\"T_c0613_row4_col5\" class=\"data row4 col5\" >-0.25</td>\n",
       "    </tr>\n",
       "    <tr>\n",
       "      <th id=\"T_c0613_level0_row5\" class=\"row_heading level0 row5\" >length</th>\n",
       "      <td id=\"T_c0613_row5_col0\" class=\"data row5 col0\" >0.12</td>\n",
       "      <td id=\"T_c0613_row5_col1\" class=\"data row5 col1\" >0.23</td>\n",
       "      <td id=\"T_c0613_row5_col2\" class=\"data row5 col2\" >-0.48</td>\n",
       "      <td id=\"T_c0613_row5_col3\" class=\"data row5 col3\" >0.55</td>\n",
       "      <td id=\"T_c0613_row5_col4\" class=\"data row5 col4\" >0.35</td>\n",
       "      <td id=\"T_c0613_row5_col5\" class=\"data row5 col5\" >0.52</td>\n",
       "    </tr>\n",
       "  </tbody>\n",
       "</table>\n"
      ],
      "text/plain": [
       "<pandas.io.formats.style.Styler at 0x7f6b12816070>"
      ]
     },
     "execution_count": 28,
     "metadata": {},
     "output_type": "execute_result"
    }
   ],
   "source": [
    "PCnames = ['PC'+str(i+1) for i in range(pca.n_components_)]\n",
    "Loadings = pd.DataFrame(pca.components_,columns=PCnames,index=X.columns)\n",
    "\n",
    "Loadings.style\\\n",
    "    .background_gradient(cmap='coolwarm', axis=None, vmin=-1, vmax=1)\\\n",
    "    .format(precision=2)"
   ]
  },
  {
   "cell_type": "markdown",
   "id": "f499e66c",
   "metadata": {},
   "source": [
    "#### variables qui contribuent bcp aux PC qui maximisent la Variance : height_left, margin_low, margin_up. height_left et margin_up sont justement des variables qui passent le test de Shapiro de normalité (donc éligibles quant à ce critère pour une régression logistique)"
   ]
  },
  {
   "cell_type": "code",
   "execution_count": null,
   "id": "ddf4eff4",
   "metadata": {},
   "outputs": [],
   "source": []
  },
  {
   "cell_type": "code",
   "execution_count": null,
   "id": "14eb03ae",
   "metadata": {},
   "outputs": [],
   "source": []
  },
  {
   "cell_type": "code",
   "execution_count": 29,
   "id": "f94d76b9",
   "metadata": {},
   "outputs": [
    {
     "data": {
      "text/plain": [
       "Text(0.5, 1.0, 'ébouli des valeurs propres')"
      ]
     },
     "execution_count": 29,
     "metadata": {},
     "output_type": "execute_result"
    },
    {
     "data": {
      "image/png": "[encoded data removed]",
      "text/plain": [
       "<Figure size 432x288 with 1 Axes>"
      ]
     },
     "metadata": {
      "needs_background": "light"
     },
     "output_type": "display_data"
    }
   ],
   "source": [
    "#calculs eigenvalues\n",
    "n = X_scaled.shape[0]\n",
    "eigval = (n-1)/n*pca.explained_variance_\n",
    "#eigval.plot(kind='bar')\n",
    "plt.plot(eigval)\n",
    "plt.ylabel(\"valeur\")\n",
    "plt.title('ébouli des valeurs propres')\n",
    "#plt.savefig(\"valeurs_propres.pdf\")"
   ]
  },
  {
   "cell_type": "code",
   "execution_count": 30,
   "id": "e67c25a0",
   "metadata": {},
   "outputs": [
    {
     "data": {
      "text/plain": [
       "(170, 6)"
      ]
     },
     "execution_count": 30,
     "metadata": {},
     "output_type": "execute_result"
    }
   ],
   "source": [
    "X_scaled.shape"
   ]
  },
  {
   "cell_type": "code",
   "execution_count": 31,
   "id": "02c13344",
   "metadata": {},
   "outputs": [
    {
     "data": {
      "text/html": [
       "<div>\n",
       "<style scoped>\n",
       "    .dataframe tbody tr th:only-of-type {\n",
       "        vertical-align: middle;\n",
       "    }\n",
       "\n",
       "    .dataframe tbody tr th {\n",
       "        vertical-align: top;\n",
       "    }\n",
       "\n",
       "    .dataframe thead th {\n",
       "        text-align: right;\n",
       "    }\n",
       "</style>\n",
       "<table border=\"1\" class=\"dataframe\">\n",
       "  <thead>\n",
       "    <tr style=\"text-align: right;\">\n",
       "      <th></th>\n",
       "      <th>diagonal</th>\n",
       "      <th>height_left</th>\n",
       "      <th>height_right</th>\n",
       "      <th>margin_low</th>\n",
       "      <th>margin_up</th>\n",
       "      <th>length</th>\n",
       "    </tr>\n",
       "  </thead>\n",
       "  <tbody>\n",
       "    <tr>\n",
       "      <th>0</th>\n",
       "      <td>-0.428344</td>\n",
       "      <td>2.669454</td>\n",
       "      <td>3.096563</td>\n",
       "      <td>-0.131590</td>\n",
       "      <td>-1.189874</td>\n",
       "      <td>0.281633</td>\n",
       "    </tr>\n",
       "    <tr>\n",
       "      <th>1</th>\n",
       "      <td>-0.887559</td>\n",
       "      <td>-1.097697</td>\n",
       "      <td>-0.691254</td>\n",
       "      <td>-0.860126</td>\n",
       "      <td>-1.274740</td>\n",
       "      <td>0.780697</td>\n",
       "    </tr>\n",
       "    <tr>\n",
       "      <th>2</th>\n",
       "      <td>-0.362742</td>\n",
       "      <td>-1.030427</td>\n",
       "      <td>-0.509439</td>\n",
       "      <td>-0.303010</td>\n",
       "      <td>-1.232307</td>\n",
       "      <td>1.377405</td>\n",
       "    </tr>\n",
       "    <tr>\n",
       "      <th>3</th>\n",
       "      <td>-0.461145</td>\n",
       "      <td>-0.963156</td>\n",
       "      <td>-0.842767</td>\n",
       "      <td>-1.260106</td>\n",
       "      <td>-0.213913</td>\n",
       "      <td>1.149571</td>\n",
       "    </tr>\n",
       "    <tr>\n",
       "      <th>4</th>\n",
       "      <td>0.358883</td>\n",
       "      <td>-1.232238</td>\n",
       "      <td>-0.539742</td>\n",
       "      <td>0.611230</td>\n",
       "      <td>-3.820725</td>\n",
       "      <td>1.062777</td>\n",
       "    </tr>\n",
       "  </tbody>\n",
       "</table>\n",
       "</div>"
      ],
      "text/plain": [
       "   diagonal  height_left  height_right  margin_low  margin_up    length\n",
       "0 -0.428344     2.669454      3.096563   -0.131590  -1.189874  0.281633\n",
       "1 -0.887559    -1.097697     -0.691254   -0.860126  -1.274740  0.780697\n",
       "2 -0.362742    -1.030427     -0.509439   -0.303010  -1.232307  1.377405\n",
       "3 -0.461145    -0.963156     -0.842767   -1.260106  -0.213913  1.149571\n",
       "4  0.358883    -1.232238     -0.539742    0.611230  -3.820725  1.062777"
      ]
     },
     "execution_count": 31,
     "metadata": {},
     "output_type": "execute_result"
    }
   ],
   "source": [
    "X_scaled.head()"
   ]
  },
  {
   "cell_type": "code",
   "execution_count": 32,
   "id": "daa2f0f6",
   "metadata": {},
   "outputs": [
    {
     "data": {
      "text/html": [
       "<div>\n",
       "<style scoped>\n",
       "    .dataframe tbody tr th:only-of-type {\n",
       "        vertical-align: middle;\n",
       "    }\n",
       "\n",
       "    .dataframe tbody tr th {\n",
       "        vertical-align: top;\n",
       "    }\n",
       "\n",
       "    .dataframe thead th {\n",
       "        text-align: right;\n",
       "    }\n",
       "</style>\n",
       "<table border=\"1\" class=\"dataframe\">\n",
       "  <thead>\n",
       "    <tr style=\"text-align: right;\">\n",
       "      <th></th>\n",
       "      <th>0</th>\n",
       "      <th>1</th>\n",
       "      <th>2</th>\n",
       "      <th>3</th>\n",
       "      <th>4</th>\n",
       "      <th>5</th>\n",
       "      <th>6</th>\n",
       "      <th>7</th>\n",
       "      <th>8</th>\n",
       "      <th>9</th>\n",
       "      <th>...</th>\n",
       "      <th>160</th>\n",
       "      <th>161</th>\n",
       "      <th>162</th>\n",
       "      <th>163</th>\n",
       "      <th>164</th>\n",
       "      <th>165</th>\n",
       "      <th>166</th>\n",
       "      <th>167</th>\n",
       "      <th>168</th>\n",
       "      <th>169</th>\n",
       "    </tr>\n",
       "  </thead>\n",
       "  <tbody>\n",
       "    <tr>\n",
       "      <th>0</th>\n",
       "      <td>3.066405</td>\n",
       "      <td>0.009291</td>\n",
       "      <td>-0.160552</td>\n",
       "      <td>-0.476566</td>\n",
       "      <td>0.440102</td>\n",
       "      <td>1.286347</td>\n",
       "      <td>-0.669028</td>\n",
       "      <td>-0.929719</td>\n",
       "      <td>-1.217434</td>\n",
       "      <td>0.850467</td>\n",
       "      <td>...</td>\n",
       "      <td>-1.108878</td>\n",
       "      <td>0.904260</td>\n",
       "      <td>0.170562</td>\n",
       "      <td>0.092409</td>\n",
       "      <td>0.547432</td>\n",
       "      <td>0.100502</td>\n",
       "      <td>0.683608</td>\n",
       "      <td>-0.026784</td>\n",
       "      <td>-0.682014</td>\n",
       "      <td>-0.309804</td>\n",
       "    </tr>\n",
       "    <tr>\n",
       "      <th>1</th>\n",
       "      <td>NaN</td>\n",
       "      <td>0.547414</td>\n",
       "      <td>0.665564</td>\n",
       "      <td>0.512437</td>\n",
       "      <td>0.838037</td>\n",
       "      <td>0.019653</td>\n",
       "      <td>0.490120</td>\n",
       "      <td>0.479744</td>\n",
       "      <td>0.409234</td>\n",
       "      <td>-0.065483</td>\n",
       "      <td>...</td>\n",
       "      <td>-0.847092</td>\n",
       "      <td>-0.654826</td>\n",
       "      <td>-0.361647</td>\n",
       "      <td>-0.519511</td>\n",
       "      <td>-0.264796</td>\n",
       "      <td>-0.569515</td>\n",
       "      <td>-0.790635</td>\n",
       "      <td>-0.827188</td>\n",
       "      <td>-0.376083</td>\n",
       "      <td>-0.592156</td>\n",
       "    </tr>\n",
       "    <tr>\n",
       "      <th>2</th>\n",
       "      <td>NaN</td>\n",
       "      <td>NaN</td>\n",
       "      <td>0.850581</td>\n",
       "      <td>0.585591</td>\n",
       "      <td>1.235795</td>\n",
       "      <td>0.026195</td>\n",
       "      <td>0.714953</td>\n",
       "      <td>0.528285</td>\n",
       "      <td>0.506337</td>\n",
       "      <td>-0.080171</td>\n",
       "      <td>...</td>\n",
       "      <td>-1.026134</td>\n",
       "      <td>-0.782057</td>\n",
       "      <td>-0.402502</td>\n",
       "      <td>-0.592934</td>\n",
       "      <td>-0.331587</td>\n",
       "      <td>-0.727150</td>\n",
       "      <td>-0.818194</td>\n",
       "      <td>-0.941281</td>\n",
       "      <td>-0.495615</td>\n",
       "      <td>-0.628928</td>\n",
       "    </tr>\n",
       "    <tr>\n",
       "      <th>3</th>\n",
       "      <td>NaN</td>\n",
       "      <td>NaN</td>\n",
       "      <td>NaN</td>\n",
       "      <td>0.737279</td>\n",
       "      <td>0.241498</td>\n",
       "      <td>-0.162091</td>\n",
       "      <td>0.560271</td>\n",
       "      <td>0.829791</td>\n",
       "      <td>0.732255</td>\n",
       "      <td>-0.235829</td>\n",
       "      <td>...</td>\n",
       "      <td>-0.313385</td>\n",
       "      <td>-0.915274</td>\n",
       "      <td>-0.627966</td>\n",
       "      <td>-0.752204</td>\n",
       "      <td>-0.597485</td>\n",
       "      <td>-0.535698</td>\n",
       "      <td>-0.996029</td>\n",
       "      <td>-0.808294</td>\n",
       "      <td>-0.149290</td>\n",
       "      <td>-0.759005</td>\n",
       "    </tr>\n",
       "    <tr>\n",
       "      <th>4</th>\n",
       "      <td>NaN</td>\n",
       "      <td>NaN</td>\n",
       "      <td>NaN</td>\n",
       "      <td>NaN</td>\n",
       "      <td>3.185504</td>\n",
       "      <td>0.840113</td>\n",
       "      <td>1.274111</td>\n",
       "      <td>-0.196090</td>\n",
       "      <td>-0.036819</td>\n",
       "      <td>0.397819</td>\n",
       "      <td>...</td>\n",
       "      <td>-1.848359</td>\n",
       "      <td>-0.370404</td>\n",
       "      <td>-0.215843</td>\n",
       "      <td>-0.518120</td>\n",
       "      <td>-0.202470</td>\n",
       "      <td>-1.137385</td>\n",
       "      <td>0.335735</td>\n",
       "      <td>-0.775482</td>\n",
       "      <td>-1.286283</td>\n",
       "      <td>-0.432428</td>\n",
       "    </tr>\n",
       "  </tbody>\n",
       "</table>\n",
       "<p>5 rows × 170 columns</p>\n",
       "</div>"
      ],
      "text/plain": [
       "        0         1         2         3         4         5         6    \\\n",
       "0  3.066405  0.009291 -0.160552 -0.476566  0.440102  1.286347 -0.669028   \n",
       "1       NaN  0.547414  0.665564  0.512437  0.838037  0.019653  0.490120   \n",
       "2       NaN       NaN  0.850581  0.585591  1.235795  0.026195  0.714953   \n",
       "3       NaN       NaN       NaN  0.737279  0.241498 -0.162091  0.560271   \n",
       "4       NaN       NaN       NaN       NaN  3.185504  0.840113  1.274111   \n",
       "\n",
       "        7         8         9    ...       160       161       162       163  \\\n",
       "0 -0.929719 -1.217434  0.850467  ... -1.108878  0.904260  0.170562  0.092409   \n",
       "1  0.479744  0.409234 -0.065483  ... -0.847092 -0.654826 -0.361647 -0.519511   \n",
       "2  0.528285  0.506337 -0.080171  ... -1.026134 -0.782057 -0.402502 -0.592934   \n",
       "3  0.829791  0.732255 -0.235829  ... -0.313385 -0.915274 -0.627966 -0.752204   \n",
       "4 -0.196090 -0.036819  0.397819  ... -1.848359 -0.370404 -0.215843 -0.518120   \n",
       "\n",
       "        164       165       166       167       168       169  \n",
       "0  0.547432  0.100502  0.683608 -0.026784 -0.682014 -0.309804  \n",
       "1 -0.264796 -0.569515 -0.790635 -0.827188 -0.376083 -0.592156  \n",
       "2 -0.331587 -0.727150 -0.818194 -0.941281 -0.495615 -0.628928  \n",
       "3 -0.597485 -0.535698 -0.996029 -0.808294 -0.149290 -0.759005  \n",
       "4 -0.202470 -1.137385  0.335735 -0.775482 -1.286283 -0.432428  \n",
       "\n",
       "[5 rows x 170 columns]"
      ]
     },
     "execution_count": 32,
     "metadata": {},
     "output_type": "execute_result"
    }
   ],
   "source": [
    "#On fait une matrice de covariance\n",
    "covMatrix = np.cov(X_scaled)#,bias=True)\n",
    "covDf = pd.DataFrame(covMatrix)#,columns=PCnames,index=X.columns)\n",
    "\n",
    "sol2 = (covDf.where(np.triu(np.ones(covDf.shape), k=0).astype(bool)))\n",
    "                  #.stack()\n",
    "                  #.sort_values(ascending=False))\n",
    "sol2.head()\n",
    "#covDf"
   ]
  },
  {
   "cell_type": "code",
   "execution_count": 33,
   "id": "45d158e0",
   "metadata": {},
   "outputs": [
    {
     "data": {
      "image/png": "[encoded data removed]",
      "text/plain": [
       "<Figure size 576x576 with 1 Axes>"
      ]
     },
     "metadata": {
      "needs_background": "light"
     },
     "output_type": "display_data"
    }
   ],
   "source": [
    "# Plot a variable factor map for the first two dimensions.\n",
    "(fig, ax) = plt.subplots(figsize=(8, 8))\n",
    "for i in range(0, pca.components_.shape[0]):\n",
    "    ax.arrow(0,\n",
    "             0,  # Start the arrow at the origin\n",
    "             pca.components_[i, 0],  #0 for PC1\n",
    "             pca.components_[i, 1],  #1 for PC2\n",
    "             head_width=0.1,\n",
    "             head_length=0.1)\n",
    "\n",
    "    plt.text(pca.components_[i, 0] + 0.05,\n",
    "             pca.components_[i, 1] + 0.05,\n",
    "             X.columns.values[i])\n",
    "\n",
    "\n",
    "an = np.linspace(0, 2 * np.pi, 100)\n",
    "plt.plot(np.cos(an), np.sin(an))  # Add a unit circle for scale\n",
    "\n",
    "plt.plot([-1,1],[0,0],color='silver',linestyle='-',linewidth=1)\n",
    "plt.plot([0,0],[-1,1],color='silver',linestyle='-',linewidth=1)\n",
    "\n",
    "plt.xlabel(\"PC1 (%s%%)\" % str(explained_variance[0])[:5].lstrip(\"0.\"))\n",
    "plt.ylabel(\"PC2 (%s%%)\" % str(explained_variance[1])[:5].lstrip(\"0.\"))\n",
    "ax.set_title('Variable factor map')\n",
    "#plt.savefig(\"correlation_circle.png\")\n",
    "plt.show()"
   ]
  },
  {
   "cell_type": "code",
   "execution_count": 34,
   "id": "dc3b307b",
   "metadata": {},
   "outputs": [
    {
     "data": {
      "text/plain": [
       "56     1\n",
       "113    0\n",
       "167    0\n",
       "149    0\n",
       "11     1\n",
       "Name: is_genuine, dtype: uint8"
      ]
     },
     "execution_count": 34,
     "metadata": {},
     "output_type": "execute_result"
    }
   ],
   "source": [
    "y.sample(5)"
   ]
  },
  {
   "cell_type": "code",
   "execution_count": 35,
   "id": "1c13d0b9",
   "metadata": {},
   "outputs": [
    {
     "data": {
      "image/png": "[encoded data removed]",
      "text/plain": [
       "<Figure size 360x360 with 1 Axes>"
      ]
     },
     "metadata": {
      "needs_background": "light"
     },
     "output_type": "display_data"
    }
   ],
   "source": [
    "#On projette sur le plan généré par les 2 composantes principales qui comptent pour ~ 68% de la variabilité des données\n",
    "colors = {0:'green', 1:'gold'}\n",
    "X_pca.plot(x='PC1', y='PC2', kind='scatter', c=y.map(colors), figsize=(5, 5))\n",
    "plt.title('dispersion des individus selon les 2 premières PC')\n",
    "\n",
    "#plt.savefig(\"PCA_plane.png\")\n",
    "plt.show()"
   ]
  },
  {
   "cell_type": "code",
   "execution_count": 36,
   "id": "74f91aaa",
   "metadata": {},
   "outputs": [
    {
     "data": {
      "image/png": "[encoded data removed]",
      "text/plain": [
       "<Figure size 360x360 with 1 Axes>"
      ]
     },
     "metadata": {
      "needs_background": "light"
     },
     "output_type": "display_data"
    }
   ],
   "source": [
    "#On projette sur le plan généré par les 2 composantes principales qui comptent pour ~ 68% de la variabilité des données\n",
    "colors2 = {0:'olive', 1:'orange'}\n",
    "X_pca.plot(x='PC1', y='PC2', kind='scatter', c=df['cluster'].map(colors2), figsize=(5, 5))\n",
    "plt.title('dispersion des individus selon les 2 premières PC')\n",
    "\n",
    "#plt.savefig(\"PCA_plane.png\")\n",
    "plt.show()"
   ]
  },
  {
   "cell_type": "code",
   "execution_count": 37,
   "id": "6b448f0d",
   "metadata": {},
   "outputs": [
    {
     "data": {
      "image/png": "[encoded data removed]",
      "text/plain": [
       "<Figure size 360x360 with 1 Axes>"
      ]
     },
     "metadata": {
      "needs_background": "light"
     },
     "output_type": "display_data"
    }
   ],
   "source": [
    "#On plot\n",
    "colors3 = {0:'darkolivegreen', 1:'yellow'}\n",
    "df.plot(x='margin_up', y='height_left', kind='scatter', c=y.map(colors2), figsize=(5, 5))\n",
    "plt.title('dispersion des individus selon 2 var éligibles')\n",
    "\n",
    "#plt.savefig(\"PCA_plane.png\")\n",
    "plt.show()"
   ]
  },
  {
   "cell_type": "markdown",
   "id": "46ddf730",
   "metadata": {},
   "source": [
    "#### => on observe pas 2 groupes bien distincts"
   ]
  },
  {
   "cell_type": "markdown",
   "id": "84f11541",
   "metadata": {},
   "source": [
    "## 3. Machine learning par régression logistique"
   ]
  },
  {
   "cell_type": "markdown",
   "id": "88017a11",
   "metadata": {},
   "source": [
    "### hypothèses : \n",
    "Les variables séléctionnées ne sont pas corrélées entre elles-> vérifié\\\n",
    "Le terme d'erreur suit une Loi normale\n",
    "### observations : \n",
    "On split le dataset entre un échantillon d'entrainement et un echantillon de test\\\n",
    "l'intérêt de cette fonction est que les groupes train/test sont constitué ) partir d'individus séléctionnés de manière aléatoire\\\n",
    "On scale pour mettre les var sur pied d'égalité"
   ]
  },
  {
   "cell_type": "code",
   "execution_count": 38,
   "id": "e26401bd",
   "metadata": {},
   "outputs": [],
   "source": [
    "#random state=42 pour fixer\n",
    "dat = X_scaled[['margin_up','height_left']]\n",
    "X_train, X_test, y_train, y_test = train_test_split(dat, y, random_state=42)"
   ]
  },
  {
   "cell_type": "markdown",
   "id": "31522cc4",
   "metadata": {},
   "source": [
    "### La tranche de données de test permet de se faire une idée de la performance du modèle avant de faire des prédictions sur des échantillons inconnus"
   ]
  },
  {
   "cell_type": "code",
   "execution_count": 39,
   "id": "2a1e2381",
   "metadata": {},
   "outputs": [
    {
     "data": {
      "text/plain": [
       "0.7470588235294118"
      ]
     },
     "execution_count": 39,
     "metadata": {},
     "output_type": "execute_result"
    }
   ],
   "source": [
    "#la tranche de test represente 1/3 des individus\n",
    "len(X_train)/(len(X_test)+len(X_train))"
   ]
  },
  {
   "cell_type": "code",
   "execution_count": 40,
   "id": "fc788cc4",
   "metadata": {},
   "outputs": [
    {
     "data": {
      "text/plain": [
       "LogisticRegression()"
      ]
     },
     "execution_count": 40,
     "metadata": {},
     "output_type": "execute_result"
    }
   ],
   "source": [
    "#on instancie LogReg\n",
    "LogReg = LogisticRegression(solver='lbfgs')\n",
    "LogReg.fit(X_train, y_train)"
   ]
  },
  {
   "cell_type": "code",
   "execution_count": 41,
   "id": "03cc93f3",
   "metadata": {},
   "outputs": [
    {
     "data": {
      "text/plain": [
       "0.7906976744186046"
      ]
     },
     "execution_count": 41,
     "metadata": {},
     "output_type": "execute_result"
    }
   ],
   "source": [
    "#on mesure le score d'exactitude moyenne\n",
    "LogReg.score(X_test, y_test)"
   ]
  },
  {
   "cell_type": "code",
   "execution_count": 42,
   "id": "9b659b6b",
   "metadata": {},
   "outputs": [
    {
     "name": "stdout",
     "output_type": "stream",
     "text": [
      "[0.78577838]\n",
      "[[-1.75788442 -0.92471668]]\n"
     ]
    }
   ],
   "source": [
    "# Check trained model intercept\n",
    "print(LogReg.intercept_)\n",
    "\n",
    "# Check trained model coefficients\n",
    "print(LogReg.coef_)"
   ]
  },
  {
   "cell_type": "code",
   "execution_count": 43,
   "id": "75db59cd",
   "metadata": {},
   "outputs": [
    {
     "data": {
      "text/html": [
       "<div>\n",
       "<style scoped>\n",
       "    .dataframe tbody tr th:only-of-type {\n",
       "        vertical-align: middle;\n",
       "    }\n",
       "\n",
       "    .dataframe tbody tr th {\n",
       "        vertical-align: top;\n",
       "    }\n",
       "\n",
       "    .dataframe thead th {\n",
       "        text-align: right;\n",
       "    }\n",
       "</style>\n",
       "<table border=\"1\" class=\"dataframe\">\n",
       "  <thead>\n",
       "    <tr style=\"text-align: right;\">\n",
       "      <th></th>\n",
       "      <th>features</th>\n",
       "      <th>estimatedCoefficients</th>\n",
       "    </tr>\n",
       "  </thead>\n",
       "  <tbody>\n",
       "    <tr>\n",
       "      <th>0</th>\n",
       "      <td>margin_up</td>\n",
       "      <td>-1.757884</td>\n",
       "    </tr>\n",
       "    <tr>\n",
       "      <th>1</th>\n",
       "      <td>height_left</td>\n",
       "      <td>-0.924717</td>\n",
       "    </tr>\n",
       "  </tbody>\n",
       "</table>\n",
       "</div>"
      ],
      "text/plain": [
       "      features  estimatedCoefficients\n",
       "0    margin_up              -1.757884\n",
       "1  height_left              -0.924717"
      ]
     },
     "execution_count": 43,
     "metadata": {},
     "output_type": "execute_result"
    }
   ],
   "source": [
    "#coef\n",
    "pd.DataFrame(zip(dat.columns, np.hstack(LogReg.coef_)), columns = ['features', 'estimatedCoefficients'])"
   ]
  },
  {
   "cell_type": "code",
   "execution_count": 44,
   "id": "1fa2ccb9",
   "metadata": {},
   "outputs": [
    {
     "data": {
      "text/html": [
       "<div>\n",
       "<style scoped>\n",
       "    .dataframe tbody tr th:only-of-type {\n",
       "        vertical-align: middle;\n",
       "    }\n",
       "\n",
       "    .dataframe tbody tr th {\n",
       "        vertical-align: top;\n",
       "    }\n",
       "\n",
       "    .dataframe thead th {\n",
       "        text-align: right;\n",
       "    }\n",
       "</style>\n",
       "<table border=\"1\" class=\"dataframe\">\n",
       "  <thead>\n",
       "    <tr style=\"text-align: right;\">\n",
       "      <th></th>\n",
       "      <th>diagonal</th>\n",
       "      <th>height_left</th>\n",
       "      <th>height_right</th>\n",
       "      <th>margin_low</th>\n",
       "      <th>margin_up</th>\n",
       "      <th>length</th>\n",
       "      <th>is_genuine</th>\n",
       "    </tr>\n",
       "  </thead>\n",
       "  <tbody>\n",
       "    <tr>\n",
       "      <th>70</th>\n",
       "      <td>-2.954029</td>\n",
       "      <td>-0.761344</td>\n",
       "      <td>-0.873070</td>\n",
       "      <td>-0.560140</td>\n",
       "      <td>0.804481</td>\n",
       "      <td>0.140593</td>\n",
       "      <td>1</td>\n",
       "    </tr>\n",
       "    <tr>\n",
       "      <th>121</th>\n",
       "      <td>0.424485</td>\n",
       "      <td>1.458584</td>\n",
       "      <td>0.914780</td>\n",
       "      <td>2.254006</td>\n",
       "      <td>-0.426078</td>\n",
       "      <td>-1.475941</td>\n",
       "      <td>0</td>\n",
       "    </tr>\n",
       "    <tr>\n",
       "      <th>159</th>\n",
       "      <td>-0.723554</td>\n",
       "      <td>1.324043</td>\n",
       "      <td>0.581452</td>\n",
       "      <td>-0.574425</td>\n",
       "      <td>1.865309</td>\n",
       "      <td>-2.452371</td>\n",
       "      <td>0</td>\n",
       "    </tr>\n",
       "    <tr>\n",
       "      <th>58</th>\n",
       "      <td>0.490087</td>\n",
       "      <td>-0.021368</td>\n",
       "      <td>-0.085204</td>\n",
       "      <td>-0.917266</td>\n",
       "      <td>0.634749</td>\n",
       "      <td>0.563713</td>\n",
       "      <td>1</td>\n",
       "    </tr>\n",
       "    <tr>\n",
       "      <th>150</th>\n",
       "      <td>0.030872</td>\n",
       "      <td>0.651337</td>\n",
       "      <td>0.126914</td>\n",
       "      <td>1.811171</td>\n",
       "      <td>-0.044180</td>\n",
       "      <td>-0.141487</td>\n",
       "      <td>0</td>\n",
       "    </tr>\n",
       "  </tbody>\n",
       "</table>\n",
       "</div>"
      ],
      "text/plain": [
       "     diagonal  height_left  height_right  margin_low  margin_up    length  \\\n",
       "70  -2.954029    -0.761344     -0.873070   -0.560140   0.804481  0.140593   \n",
       "121  0.424485     1.458584      0.914780    2.254006  -0.426078 -1.475941   \n",
       "159 -0.723554     1.324043      0.581452   -0.574425   1.865309 -2.452371   \n",
       "58   0.490087    -0.021368     -0.085204   -0.917266   0.634749  0.563713   \n",
       "150  0.030872     0.651337      0.126914    1.811171  -0.044180 -0.141487   \n",
       "\n",
       "     is_genuine  \n",
       "70            1  \n",
       "121           0  \n",
       "159           0  \n",
       "58            1  \n",
       "150           0  "
      ]
     },
     "execution_count": 44,
     "metadata": {},
     "output_type": "execute_result"
    }
   ],
   "source": [
    "#on reconstitue un dataframe avec les données scaled + la colonne 'is_genuine'\n",
    "data = pd.concat([X_scaled, df[['is_genuine']]], axis=1)\n",
    "data.sample(5)"
   ]
  },
  {
   "cell_type": "markdown",
   "id": "c2a837a8",
   "metadata": {},
   "source": [
    "### On fait une logistic regression en Statsmodels pour comparer avec Scikitlearn"
   ]
  },
  {
   "cell_type": "code",
   "execution_count": 45,
   "id": "4f62018a",
   "metadata": {},
   "outputs": [
    {
     "name": "stdout",
     "output_type": "stream",
     "text": [
      "Optimization terminated successfully.\n",
      "         Current function value: 0.398205\n",
      "         Iterations 7\n",
      "                           Logit Regression Results                           \n",
      "==============================================================================\n",
      "Dep. Variable:             is_genuine   No. Observations:                  170\n",
      "Model:                          Logit   Df Residuals:                      167\n",
      "Method:                           MLE   Df Model:                            2\n",
      "Date:                Thu, 31 Mar 2022   Pseudo R-squ.:                  0.4122\n",
      "Time:                        09:46:20   Log-Likelihood:                -67.695\n",
      "converged:                       True   LL-Null:                       -115.17\n",
      "Covariance Type:            nonrobust   LLR p-value:                 2.399e-21\n",
      "===============================================================================\n",
      "                  coef    std err          z      P>|z|      [0.025      0.975]\n",
      "-------------------------------------------------------------------------------\n",
      "Intercept       0.7235      0.230      3.148      0.002       0.273       1.174\n",
      "height_left    -1.0582      0.245     -4.313      0.000      -1.539      -0.577\n",
      "margin_up      -1.8680      0.327     -5.718      0.000      -2.508      -1.228\n",
      "===============================================================================\n"
     ]
    }
   ],
   "source": [
    "# fit logistic regression model\n",
    "from statsmodels.formula.api import logit, glm, ols\n",
    "\n",
    "# statsmodels works nicely with pandas dataframes\n",
    "#dat = pd.DataFrame(data, columns = ['Temperature', 'Failure'])\n",
    "logit_model = logit('is_genuine ~ height_left + margin_up',data).fit()\n",
    "print(logit_model.summary())"
   ]
  },
  {
   "cell_type": "markdown",
   "id": "ae3c6e56",
   "metadata": {},
   "source": [
    "#### interprétation : \n",
    "_si les variables sont nulles, la p que le billet soit 'genuine' est ~2.06 (exp(beta0)) fois plus grande que la p que le billet soit faux\\\n",
    "_si la var 'height_left' augmente d'une unité, le rapport des côtes que le billet soit 'genuine' devient 0.34 (exp(-1.0582)) fois moins grand\\\n",
    "_même calcul var 'margin_up'\\\n",
    "_les p-values sont <0.05 donc les coef et relations entre les var et y ne sont dues au hasard"
   ]
  },
  {
   "cell_type": "markdown",
   "id": "47264374",
   "metadata": {},
   "source": [
    "## Outil de prédiction"
   ]
  },
  {
   "cell_type": "code",
   "execution_count": 46,
   "id": "3f65ddb4",
   "metadata": {},
   "outputs": [],
   "source": [
    "#on teste sur l'échantillon de test de l'énnoncé ou de l'évaluation\n",
    "df2 = pd.read_csv(\"test_notes.csv\")\n",
    "#on mets en forme un index\n",
    "df2 = df2.set_index('id')"
   ]
  },
  {
   "cell_type": "code",
   "execution_count": 47,
   "id": "dcb80b3c",
   "metadata": {},
   "outputs": [
    {
     "data": {
      "text/html": [
       "<div>\n",
       "<style scoped>\n",
       "    .dataframe tbody tr th:only-of-type {\n",
       "        vertical-align: middle;\n",
       "    }\n",
       "\n",
       "    .dataframe tbody tr th {\n",
       "        vertical-align: top;\n",
       "    }\n",
       "\n",
       "    .dataframe thead th {\n",
       "        text-align: right;\n",
       "    }\n",
       "</style>\n",
       "<table border=\"1\" class=\"dataframe\">\n",
       "  <thead>\n",
       "    <tr style=\"text-align: right;\">\n",
       "      <th></th>\n",
       "      <th>height_left</th>\n",
       "      <th>margin_up</th>\n",
       "    </tr>\n",
       "    <tr>\n",
       "      <th>id</th>\n",
       "      <th></th>\n",
       "      <th></th>\n",
       "    </tr>\n",
       "  </thead>\n",
       "  <tbody>\n",
       "    <tr>\n",
       "      <th>B_1</th>\n",
       "      <td>-0.639418</td>\n",
       "      <td>-0.937158</td>\n",
       "    </tr>\n",
       "    <tr>\n",
       "      <th>B_2</th>\n",
       "      <td>0.552718</td>\n",
       "      <td>-0.137145</td>\n",
       "    </tr>\n",
       "    <tr>\n",
       "      <th>B_3</th>\n",
       "      <td>-1.452239</td>\n",
       "      <td>0.777156</td>\n",
       "    </tr>\n",
       "    <tr>\n",
       "      <th>B_4</th>\n",
       "      <td>0.065026</td>\n",
       "      <td>1.462881</td>\n",
       "    </tr>\n",
       "    <tr>\n",
       "      <th>B_5</th>\n",
       "      <td>1.473914</td>\n",
       "      <td>-1.165733</td>\n",
       "    </tr>\n",
       "  </tbody>\n",
       "</table>\n",
       "</div>"
      ],
      "text/plain": [
       "     height_left  margin_up\n",
       "id                         \n",
       "B_1    -0.639418  -0.937158\n",
       "B_2     0.552718  -0.137145\n",
       "B_3    -1.452239   0.777156\n",
       "B_4     0.065026   1.462881\n",
       "B_5     1.473914  -1.165733"
      ]
     },
     "execution_count": 47,
     "metadata": {},
     "output_type": "execute_result"
    }
   ],
   "source": [
    "#on insère données à prédire ici (remplacer test_notes par df2)\n",
    "ScaledSample = scaler.fit_transform(df2[['height_left','margin_up']])\n",
    "#remplacer test_notes par df2 pour l'index\n",
    "ScaledSample_df = pd.DataFrame(ScaledSample, index=df2.index,\\\n",
    "                               columns=df2[['height_left','margin_up']].columns)\n",
    "ScaledSample_df"
   ]
  },
  {
   "cell_type": "code",
   "execution_count": 48,
   "id": "8ea4e19a",
   "metadata": {},
   "outputs": [
    {
     "data": {
      "text/plain": [
       "array([1, 0, 1, 0, 0], dtype=uint8)"
      ]
     },
     "execution_count": 48,
     "metadata": {},
     "output_type": "execute_result"
    }
   ],
   "source": [
    "#on utilise la méthode predict pour predire le resultat\n",
    "LogReg.predict(ScaledSample_df)"
   ]
  },
  {
   "cell_type": "code",
   "execution_count": 49,
   "id": "ccd969db",
   "metadata": {},
   "outputs": [],
   "source": [
    "#probas\n",
    "proba = LogReg.predict_proba(ScaledSample_df)\n",
    "#mise en forme resultat dans un Df Attention à indiquer le bon df pour l'index\n",
    "proba_predict = pd.DataFrame(proba, index=df2.index, columns=['p_not_genuine', 'p_is_genuine'])"
   ]
  },
  {
   "cell_type": "code",
   "execution_count": 50,
   "id": "75dedf1d",
   "metadata": {},
   "outputs": [
    {
     "data": {
      "text/html": [
       "<div>\n",
       "<style scoped>\n",
       "    .dataframe tbody tr th:only-of-type {\n",
       "        vertical-align: middle;\n",
       "    }\n",
       "\n",
       "    .dataframe tbody tr th {\n",
       "        vertical-align: top;\n",
       "    }\n",
       "\n",
       "    .dataframe thead th {\n",
       "        text-align: right;\n",
       "    }\n",
       "</style>\n",
       "<table border=\"1\" class=\"dataframe\">\n",
       "  <thead>\n",
       "    <tr style=\"text-align: right;\">\n",
       "      <th></th>\n",
       "      <th>p_not_genuine</th>\n",
       "      <th>p_is_genuine</th>\n",
       "      <th>prediction</th>\n",
       "    </tr>\n",
       "    <tr>\n",
       "      <th>id</th>\n",
       "      <th></th>\n",
       "      <th></th>\n",
       "      <th></th>\n",
       "    </tr>\n",
       "  </thead>\n",
       "  <tbody>\n",
       "    <tr>\n",
       "      <th>B_1</th>\n",
       "      <td>0.058612</td>\n",
       "      <td>0.941388</td>\n",
       "      <td>genuine</td>\n",
       "    </tr>\n",
       "    <tr>\n",
       "      <th>B_2</th>\n",
       "      <td>0.514749</td>\n",
       "      <td>0.485251</td>\n",
       "      <td>fake</td>\n",
       "    </tr>\n",
       "    <tr>\n",
       "      <th>B_3</th>\n",
       "      <td>0.067862</td>\n",
       "      <td>0.932138</td>\n",
       "      <td>genuine</td>\n",
       "    </tr>\n",
       "    <tr>\n",
       "      <th>B_4</th>\n",
       "      <td>0.664024</td>\n",
       "      <td>0.335976</td>\n",
       "      <td>fake</td>\n",
       "    </tr>\n",
       "    <tr>\n",
       "      <th>B_5</th>\n",
       "      <td>0.674195</td>\n",
       "      <td>0.325805</td>\n",
       "      <td>fake</td>\n",
       "    </tr>\n",
       "  </tbody>\n",
       "</table>\n",
       "</div>"
      ],
      "text/plain": [
       "     p_not_genuine  p_is_genuine prediction\n",
       "id                                         \n",
       "B_1       0.058612      0.941388    genuine\n",
       "B_2       0.514749      0.485251       fake\n",
       "B_3       0.067862      0.932138    genuine\n",
       "B_4       0.664024      0.335976       fake\n",
       "B_5       0.674195      0.325805       fake"
      ]
     },
     "execution_count": 50,
     "metadata": {},
     "output_type": "execute_result"
    }
   ],
   "source": [
    "#résultat\n",
    "proba_predict['prediction'] = np.where(proba_predict['p_is_genuine']>=0.5,'genuine','fake')\n",
    "proba_predict"
   ]
  },
  {
   "cell_type": "code",
   "execution_count": 51,
   "id": "c1273ba6",
   "metadata": {},
   "outputs": [
    {
     "data": {
      "text/plain": [
       "Text(0.5, 1.0, 'Predicted is_genuine: $\\\\hat{Y}_i$ count')"
      ]
     },
     "execution_count": 51,
     "metadata": {},
     "output_type": "execute_result"
    },
    {
     "data": {
      "image/png": "[encoded data removed]",
      "text/plain": [
       "<Figure size 432x288 with 1 Axes>"
      ]
     },
     "metadata": {
      "needs_background": "light"
     },
     "output_type": "display_data"
    }
   ],
   "source": [
    "#on plot la distribution\n",
    "plt.hist(LogReg.predict(ScaledSample_df))\n",
    "plt.xlabel(\"predicted is_genuine: $\\hat{Y}_i$\")\n",
    "plt.ylabel(\"Predicted frequency\")\n",
    "plt.title(\"Predicted is_genuine: $\\hat{Y}_i$ count\")"
   ]
  },
  {
   "cell_type": "code",
   "execution_count": null,
   "id": "21373ec8",
   "metadata": {},
   "outputs": [],
   "source": []
  }
 ],
 "metadata": {
  "kernelspec": {
   "display_name": "Python 3 (ipykernel)",
   "language": "python",
   "name": "python3"
  },
  "language_info": {
   "codemirror_mode": {
    "name": "ipython",
    "version": 3
   },
   "file_extension": ".py",
   "mimetype": "text/x-python",
   "name": "python",
   "nbconvert_exporter": "python",
   "pygments_lexer": "ipython3",
   "version": "3.9.7"
  }
 },
 "nbformat": 4,
 "nbformat_minor": 5
}
